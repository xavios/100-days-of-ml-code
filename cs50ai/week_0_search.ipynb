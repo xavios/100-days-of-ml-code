{
 "cells": [
  {
   "cell_type": "markdown",
   "id": "b361d730-994c-4102-885d-f375a873eec9",
   "metadata": {},
   "source": [
    "# Search - week 0\n",
    "\n",
    "Agent is in an environment with a challenge, we want the agent to solve the challenge.\n",
    "- maze solving\n",
    "- driving directions\n",
    "\n",
    "## Taxonomy\n",
    "**Agent**: entity that precieves its environment and acts upon that environment\n",
    "\n",
    "**State**: configuration of the environment of the agent\n",
    "\n",
    "**Initial state**: state where the agent begins\n",
    "\n",
    "**Actions**: choiches that can be made in a state\n",
    "\n",
    "*Actions(s)* : return all actions that can be done in `s` state.\n",
    "\n",
    "**Transition model**: a description of what state results from performing any applicable action in any state.\n",
    "    `Results(s, a)` --> returns a new state after we perform the action on state `s`\n",
    "\n",
    "**State space**: all states what we can get from the initial state with any series of actions.\n",
    "\n",
    "**Goal test**: test if the state is the goal state. `goal(s)`\n",
    "\n",
    "**Path cost**: numerical cost associated with a given paths.\n",
    "\n",
    "**Solution**: a path that takes us from an initial state to a goal state.\n"
   ]
  },
  {
   "cell_type": "markdown",
   "id": "2dfebb14-53cf-49be-abb4-9578cfda6493",
   "metadata": {},
   "source": [
    "Data structure to use: `node`\n",
    "\n",
    "- state\n",
    "- parent link\n",
    "- an action that we took from parent to the current state\n",
    "- parent state (how long it took from the initial state to the current state)\n",
    "  "
   ]
  },
  {
   "cell_type": "markdown",
   "id": "866a7501-ed28-479a-b174-fb000856e1cb",
   "metadata": {},
   "source": [
    "We start with the frontier that contains the initial state.\n",
    "\n",
    "Repeat:\n",
    "1) If the frontier is empty, then there is no solution.\n",
    "2) Remove a node from the frontier\n",
    "3) if that nod is the goal --> we found the solution.\n",
    "4) expand the node and add the resulting nodes to the frontier.\n",
    "\n",
    "**Draw down the BFS and DFS solutions to the goal finding.**"
   ]
  }
 ],
 "metadata": {
  "kernelspec": {
   "display_name": "Python 3 (ipykernel)",
   "language": "python",
   "name": "python3"
  },
  "language_info": {
   "codemirror_mode": {
    "name": "ipython",
    "version": 3
   },
   "file_extension": ".py",
   "mimetype": "text/x-python",
   "name": "python",
   "nbconvert_exporter": "python",
   "pygments_lexer": "ipython3",
   "version": "3.12.2"
  }
 },
 "nbformat": 4,
 "nbformat_minor": 5
}
